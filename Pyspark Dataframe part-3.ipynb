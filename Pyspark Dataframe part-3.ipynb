{
 "cells": [
  {
   "cell_type": "code",
   "execution_count": 58,
   "id": "a87ef6a9",
   "metadata": {},
   "outputs": [],
   "source": [
    "from pyspark.sql import SparkSession"
   ]
  },
  {
   "cell_type": "code",
   "execution_count": 59,
   "id": "cb8e9c7e",
   "metadata": {},
   "outputs": [],
   "source": [
    "spark=SparkSession.builder.appName('practice').getOrCreate()"
   ]
  },
  {
   "cell_type": "code",
   "execution_count": 60,
   "id": "cda70820",
   "metadata": {},
   "outputs": [],
   "source": [
    "#df_pyspark=spark.read.csv('D:/test3.csv',header=True)"
   ]
  },
  {
   "cell_type": "code",
   "execution_count": 61,
   "id": "24f35d14",
   "metadata": {},
   "outputs": [],
   "source": [
    "df_pyspark=spark.read.csv('D:/test3.csv',header=True, inferSchema='True')"
   ]
  },
  {
   "cell_type": "code",
   "execution_count": 62,
   "id": "367e1557",
   "metadata": {},
   "outputs": [
    {
     "name": "stdout",
     "output_type": "stream",
     "text": [
      "+-------+----+----------+------+\n",
      "|   Name| Age|Experience|salary|\n",
      "+-------+----+----------+------+\n",
      "|ashray |  21|         5| 30000|\n",
      "| sunny |  22|         6| 35000|\n",
      "|  bunny|  23|         7| 40000|\n",
      "|    ram|null|         5| 50000|\n",
      "|    sam|  26|         4|450000|\n",
      "|   null|  26|      null|  null|\n",
      "|   null|null|         7| 70000|\n",
      "+-------+----+----------+------+\n",
      "\n"
     ]
    }
   ],
   "source": [
    "df_pyspark.show()"
   ]
  },
  {
   "cell_type": "code",
   "execution_count": 63,
   "id": "f2e0085f",
   "metadata": {},
   "outputs": [],
   "source": [
    "## droping the column"
   ]
  },
  {
   "cell_type": "code",
   "execution_count": 64,
   "id": "0ab08525",
   "metadata": {},
   "outputs": [
    {
     "name": "stdout",
     "output_type": "stream",
     "text": [
      "+----+----------+------+\n",
      "| Age|Experience|salary|\n",
      "+----+----------+------+\n",
      "|  21|         5| 30000|\n",
      "|  22|         6| 35000|\n",
      "|  23|         7| 40000|\n",
      "|null|         5| 50000|\n",
      "|  26|         4|450000|\n",
      "|  26|      null|  null|\n",
      "|null|         7| 70000|\n",
      "+----+----------+------+\n",
      "\n"
     ]
    }
   ],
   "source": [
    "df_pyspark.drop('Name').show()"
   ]
  },
  {
   "cell_type": "code",
   "execution_count": 65,
   "id": "aa052e60",
   "metadata": {},
   "outputs": [
    {
     "name": "stdout",
     "output_type": "stream",
     "text": [
      "+-------+---+----------+------+\n",
      "|   Name|Age|Experience|salary|\n",
      "+-------+---+----------+------+\n",
      "|ashray | 21|         5| 30000|\n",
      "| sunny | 22|         6| 35000|\n",
      "|  bunny| 23|         7| 40000|\n",
      "|    sam| 26|         4|450000|\n",
      "+-------+---+----------+------+\n",
      "\n"
     ]
    }
   ],
   "source": [
    "df_pyspark.na.drop().show()"
   ]
  },
  {
   "cell_type": "code",
   "execution_count": 66,
   "id": "4242874b",
   "metadata": {},
   "outputs": [],
   "source": [
    "#how=any"
   ]
  },
  {
   "cell_type": "code",
   "execution_count": 67,
   "id": "370147eb",
   "metadata": {},
   "outputs": [
    {
     "name": "stdout",
     "output_type": "stream",
     "text": [
      "+-------+----+----------+------+\n",
      "|   Name| Age|Experience|salary|\n",
      "+-------+----+----------+------+\n",
      "|ashray |  21|         5| 30000|\n",
      "| sunny |  22|         6| 35000|\n",
      "|  bunny|  23|         7| 40000|\n",
      "|    ram|null|         5| 50000|\n",
      "|    sam|  26|         4|450000|\n",
      "|   null|  26|      null|  null|\n",
      "|   null|null|         7| 70000|\n",
      "+-------+----+----------+------+\n",
      "\n"
     ]
    }
   ],
   "source": [
    "df_pyspark.na.drop(how='all').show()"
   ]
  },
  {
   "cell_type": "code",
   "execution_count": 68,
   "id": "4cd4a1ee",
   "metadata": {},
   "outputs": [
    {
     "name": "stdout",
     "output_type": "stream",
     "text": [
      "+-------+---+----------+------+\n",
      "|   Name|Age|Experience|salary|\n",
      "+-------+---+----------+------+\n",
      "|ashray | 21|         5| 30000|\n",
      "| sunny | 22|         6| 35000|\n",
      "|  bunny| 23|         7| 40000|\n",
      "|    sam| 26|         4|450000|\n",
      "+-------+---+----------+------+\n",
      "\n"
     ]
    }
   ],
   "source": [
    "df_pyspark.na.drop(how='any').show()"
   ]
  },
  {
   "cell_type": "code",
   "execution_count": 69,
   "id": "0ab87d0d",
   "metadata": {},
   "outputs": [],
   "source": [
    "##thresh"
   ]
  },
  {
   "cell_type": "code",
   "execution_count": 70,
   "id": "48f8d1dc",
   "metadata": {},
   "outputs": [
    {
     "name": "stdout",
     "output_type": "stream",
     "text": [
      "+-------+----+----------+------+\n",
      "|   Name| Age|Experience|salary|\n",
      "+-------+----+----------+------+\n",
      "|ashray |  21|         5| 30000|\n",
      "| sunny |  22|         6| 35000|\n",
      "|  bunny|  23|         7| 40000|\n",
      "|    ram|null|         5| 50000|\n",
      "|    sam|  26|         4|450000|\n",
      "|   null|null|         7| 70000|\n",
      "+-------+----+----------+------+\n",
      "\n"
     ]
    }
   ],
   "source": [
    "df_pyspark.na.drop(how='any', thresh=2).show()  #atleast 2 notnull value be there"
   ]
  },
  {
   "cell_type": "code",
   "execution_count": 71,
   "id": "db232f3e",
   "metadata": {},
   "outputs": [],
   "source": [
    "#subset"
   ]
  },
  {
   "cell_type": "code",
   "execution_count": 72,
   "id": "ee54b365",
   "metadata": {},
   "outputs": [
    {
     "name": "stdout",
     "output_type": "stream",
     "text": [
      "+-------+----+----------+------+\n",
      "|   Name| Age|Experience|salary|\n",
      "+-------+----+----------+------+\n",
      "|ashray |  21|         5| 30000|\n",
      "| sunny |  22|         6| 35000|\n",
      "|  bunny|  23|         7| 40000|\n",
      "|    ram|null|         5| 50000|\n",
      "|    sam|  26|         4|450000|\n",
      "|   null|null|         7| 70000|\n",
      "+-------+----+----------+------+\n",
      "\n"
     ]
    }
   ],
   "source": [
    "df_pyspark.na.drop(how='any', subset=['Experience']).show()"
   ]
  },
  {
   "cell_type": "code",
   "execution_count": 73,
   "id": "98133e73",
   "metadata": {},
   "outputs": [],
   "source": [
    "##Filling the missing Value"
   ]
  },
  {
   "cell_type": "code",
   "execution_count": 74,
   "id": "0d100c61",
   "metadata": {},
   "outputs": [
    {
     "name": "stdout",
     "output_type": "stream",
     "text": [
      "+-------------+----+----------+------+\n",
      "|         Name| Age|Experience|salary|\n",
      "+-------------+----+----------+------+\n",
      "|      ashray |  21|         5| 30000|\n",
      "|       sunny |  22|         6| 35000|\n",
      "|        bunny|  23|         7| 40000|\n",
      "|          ram|null|         5| 50000|\n",
      "|          sam|  26|         4|450000|\n",
      "|Missing value|  26|      null|  null|\n",
      "|Missing value|null|         7| 70000|\n",
      "+-------------+----+----------+------+\n",
      "\n"
     ]
    }
   ],
   "source": [
    "df_pyspark.na.fill('Missing value',['Experience','Age','Name']).show()"
   ]
  },
  {
   "cell_type": "code",
   "execution_count": null,
   "id": "2cbf14fd",
   "metadata": {},
   "outputs": [],
   "source": []
  },
  {
   "cell_type": "code",
   "execution_count": 75,
   "id": "fd894f31",
   "metadata": {},
   "outputs": [
    {
     "name": "stdout",
     "output_type": "stream",
     "text": [
      "+-------+----+----------+------+\n",
      "|   Name| Age|Experience|salary|\n",
      "+-------+----+----------+------+\n",
      "|ashray |  21|         5| 30000|\n",
      "| sunny |  22|         6| 35000|\n",
      "|  bunny|  23|         7| 40000|\n",
      "|    ram|null|         5| 50000|\n",
      "|    sam|  26|         4|450000|\n",
      "|   null|  26|      null|  null|\n",
      "|   null|null|         7| 70000|\n",
      "+-------+----+----------+------+\n",
      "\n"
     ]
    }
   ],
   "source": [
    "df_pyspark.show()"
   ]
  },
  {
   "cell_type": "code",
   "execution_count": 76,
   "id": "e60fb4d0",
   "metadata": {},
   "outputs": [],
   "source": [
    "from pyspark.ml.feature import Imputer\n",
    "imputer=Imputer(\n",
    "    inputCols=['Age','Experience','salary'],\n",
    "    outputCols=[\"{}_imputed\".format(c) for c in['Age','Experience','salary']]\n",
    "   ).setStrategy(\"mean\")"
   ]
  },
  {
   "cell_type": "code",
   "execution_count": 77,
   "id": "535c2bb3",
   "metadata": {},
   "outputs": [],
   "source": [
    "# Add imputation cols to df"
   ]
  },
  {
   "cell_type": "code",
   "execution_count": 78,
   "id": "c4e46117",
   "metadata": {},
   "outputs": [
    {
     "name": "stdout",
     "output_type": "stream",
     "text": [
      "+-------+----+----------+------+-----------+------------------+--------------+\n",
      "|   Name| Age|Experience|salary|Age_imputed|Experience_imputed|salary_imputed|\n",
      "+-------+----+----------+------+-----------+------------------+--------------+\n",
      "|ashray |  21|         5| 30000|         21|                 5|         30000|\n",
      "| sunny |  22|         6| 35000|         22|                 6|         35000|\n",
      "|  bunny|  23|         7| 40000|         23|                 7|         40000|\n",
      "|    ram|null|         5| 50000|         23|                 5|         50000|\n",
      "|    sam|  26|         4|450000|         26|                 4|        450000|\n",
      "|   null|  26|      null|  null|         26|                 5|        112500|\n",
      "|   null|null|         7| 70000|         23|                 7|         70000|\n",
      "+-------+----+----------+------+-----------+------------------+--------------+\n",
      "\n"
     ]
    }
   ],
   "source": [
    "imputer.fit(df_pyspark).transform(df_pyspark).show()"
   ]
  },
  {
   "cell_type": "code",
   "execution_count": null,
   "id": "65f9b3da",
   "metadata": {},
   "outputs": [],
   "source": []
  }
 ],
 "metadata": {
  "kernelspec": {
   "display_name": "Python 3 (ipykernel)",
   "language": "python",
   "name": "python3"
  },
  "language_info": {
   "codemirror_mode": {
    "name": "ipython",
    "version": 3
   },
   "file_extension": ".py",
   "mimetype": "text/x-python",
   "name": "python",
   "nbconvert_exporter": "python",
   "pygments_lexer": "ipython3",
   "version": "3.9.12"
  }
 },
 "nbformat": 4,
 "nbformat_minor": 5
}

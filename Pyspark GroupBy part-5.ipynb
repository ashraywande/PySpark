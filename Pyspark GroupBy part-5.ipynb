{
 "cells": [
  {
   "cell_type": "code",
   "execution_count": 11,
   "id": "4d449fd2",
   "metadata": {},
   "outputs": [],
   "source": [
    "from pyspark.sql import SparkSession"
   ]
  },
  {
   "cell_type": "code",
   "execution_count": 12,
   "id": "73515d9c",
   "metadata": {},
   "outputs": [],
   "source": [
    "spark=SparkSession.builder.appName('Agg').getOrCreate()"
   ]
  },
  {
   "cell_type": "code",
   "execution_count": 13,
   "id": "67067d05",
   "metadata": {},
   "outputs": [],
   "source": [
    "df_pyspark=spark.read.csv('D:/test5.csv',header=True,inferSchema=True)"
   ]
  },
  {
   "cell_type": "code",
   "execution_count": 14,
   "id": "47c3605c",
   "metadata": {},
   "outputs": [
    {
     "name": "stdout",
     "output_type": "stream",
     "text": [
      "+---------+------------+------+\n",
      "|    Name |  Department|Salary|\n",
      "+---------+------------+------+\n",
      "|    krish|Data Science| 10000|\n",
      "|    krish|         Iot|  5000|\n",
      "|   mahesh|    big data|  4000|\n",
      "|    krish|    big data|  4000|\n",
      "|   mahesh|Data Science|  3000|\n",
      "|sudhanshu|Data Science| 20000|\n",
      "|sudhanshu|         IOT| 10000|\n",
      "|sudhanshu|    big data|  5000|\n",
      "|    sunny|Data Science| 10000|\n",
      "+---------+------------+------+\n",
      "\n"
     ]
    }
   ],
   "source": [
    "df_pyspark.show()"
   ]
  },
  {
   "cell_type": "code",
   "execution_count": 15,
   "id": "3bc23a36",
   "metadata": {},
   "outputs": [
    {
     "name": "stdout",
     "output_type": "stream",
     "text": [
      "root\n",
      " |-- Name : string (nullable = true)\n",
      " |-- Department: string (nullable = true)\n",
      " |-- Salary: integer (nullable = true)\n",
      "\n"
     ]
    }
   ],
   "source": [
    "df_pyspark.printSchema()"
   ]
  },
  {
   "cell_type": "code",
   "execution_count": 7,
   "id": "9aa39971",
   "metadata": {},
   "outputs": [],
   "source": [
    "##Group by"
   ]
  },
  {
   "cell_type": "code",
   "execution_count": 22,
   "id": "5f6f39f9",
   "metadata": {},
   "outputs": [
    {
     "name": "stdout",
     "output_type": "stream",
     "text": [
      "+---------+-----------+\n",
      "|    Name |sum(Salary)|\n",
      "+---------+-----------+\n",
      "|    sunny|      10000|\n",
      "|    krish|      19000|\n",
      "|sudhanshu|      35000|\n",
      "|   mahesh|       7000|\n",
      "+---------+-----------+\n",
      "\n"
     ]
    }
   ],
   "source": [
    "df_pyspark.groupBy('Name ').sum().show()"
   ]
  },
  {
   "cell_type": "code",
   "execution_count": 24,
   "id": "0e4407e3",
   "metadata": {},
   "outputs": [
    {
     "name": "stdout",
     "output_type": "stream",
     "text": [
      "+---------+-----------+\n",
      "|    Name |min(Salary)|\n",
      "+---------+-----------+\n",
      "|    sunny|      10000|\n",
      "|    krish|       4000|\n",
      "|sudhanshu|       5000|\n",
      "|   mahesh|       3000|\n",
      "+---------+-----------+\n",
      "\n"
     ]
    }
   ],
   "source": [
    "df_pyspark.groupBy('Name ').min().show()"
   ]
  },
  {
   "cell_type": "code",
   "execution_count": 26,
   "id": "9cb961d0",
   "metadata": {},
   "outputs": [
    {
     "name": "stdout",
     "output_type": "stream",
     "text": [
      "+------------+-----------+\n",
      "|  Department|sum(Salary)|\n",
      "+------------+-----------+\n",
      "|         IOT|      10000|\n",
      "|         Iot|       5000|\n",
      "|    big data|      13000|\n",
      "|Data Science|      43000|\n",
      "+------------+-----------+\n",
      "\n"
     ]
    }
   ],
   "source": [
    "df_pyspark.groupBy('Department').sum().show()"
   ]
  },
  {
   "cell_type": "code",
   "execution_count": 27,
   "id": "64efbcf6",
   "metadata": {},
   "outputs": [
    {
     "name": "stdout",
     "output_type": "stream",
     "text": [
      "+------------+-----------------+\n",
      "|  Department|      avg(Salary)|\n",
      "+------------+-----------------+\n",
      "|         IOT|          10000.0|\n",
      "|         Iot|           5000.0|\n",
      "|    big data|4333.333333333333|\n",
      "|Data Science|          10750.0|\n",
      "+------------+-----------------+\n",
      "\n"
     ]
    }
   ],
   "source": [
    "df_pyspark.groupBy('Department').mean().show()"
   ]
  },
  {
   "cell_type": "code",
   "execution_count": 29,
   "id": "59b64108",
   "metadata": {},
   "outputs": [
    {
     "name": "stdout",
     "output_type": "stream",
     "text": [
      "+------------+-----+\n",
      "|  Department|count|\n",
      "+------------+-----+\n",
      "|         IOT|    1|\n",
      "|         Iot|    1|\n",
      "|    big data|    3|\n",
      "|Data Science|    4|\n",
      "+------------+-----+\n",
      "\n"
     ]
    }
   ],
   "source": [
    "df_pyspark.groupBy('Department').count().show()"
   ]
  },
  {
   "cell_type": "code",
   "execution_count": 30,
   "id": "2bd6508e",
   "metadata": {},
   "outputs": [],
   "source": [
    "#we can apply direct agg fun"
   ]
  },
  {
   "cell_type": "code",
   "execution_count": 31,
   "id": "0fb64221",
   "metadata": {},
   "outputs": [
    {
     "name": "stdout",
     "output_type": "stream",
     "text": [
      "+-----------+\n",
      "|sum(salary)|\n",
      "+-----------+\n",
      "|      71000|\n",
      "+-----------+\n",
      "\n"
     ]
    }
   ],
   "source": [
    "df_pyspark.agg({'salary':'sum'}).show()"
   ]
  },
  {
   "cell_type": "code",
   "execution_count": null,
   "id": "d0b7aa72",
   "metadata": {},
   "outputs": [],
   "source": []
  }
 ],
 "metadata": {
  "kernelspec": {
   "display_name": "Python 3 (ipykernel)",
   "language": "python",
   "name": "python3"
  },
  "language_info": {
   "codemirror_mode": {
    "name": "ipython",
    "version": 3
   },
   "file_extension": ".py",
   "mimetype": "text/x-python",
   "name": "python",
   "nbconvert_exporter": "python",
   "pygments_lexer": "ipython3",
   "version": "3.9.12"
  }
 },
 "nbformat": 4,
 "nbformat_minor": 5
}
